{
  "nbformat": 4,
  "nbformat_minor": 0,
  "metadata": {
    "colab": {
      "provenance": []
    },
    "kernelspec": {
      "name": "python3",
      "display_name": "Python 3"
    },
    "language_info": {
      "name": "python"
    }
  },
  "cells": [
    {
      "cell_type": "code",
      "execution_count": 1,
      "metadata": {
        "colab": {
          "base_uri": "https://localhost:8080/"
        },
        "id": "fgAuY9HOaoso",
        "outputId": "b39181a7-f9b1-44ec-d000-7bec4fc23763"
      },
      "outputs": [
        {
          "output_type": "stream",
          "name": "stdout",
          "text": [
            "Mounted at /content/drive\n",
            "訓練集：\n",
            "  Month DayofMonth DayOfWeek  DepTime UniqueCarrier Origin Dest  Distance  \\\n",
            "0   c-8       c-21       c-7     1934            AA    ATL  DFW       732   \n",
            "1   c-4       c-20       c-3     1548            US    PIT  MCO       834   \n",
            "2   c-9        c-2       c-5     1422            XE    RDU  CLE       416   \n",
            "3  c-11       c-25       c-6     1015            OO    DEN  MEM       872   \n",
            "4  c-10        c-7       c-6     1828            WN    MDW  OMA       423   \n",
            "\n",
            "  dep_delayed_15min  \n",
            "0                 N  \n",
            "1                 N  \n",
            "2                 N  \n",
            "3                 N  \n",
            "4                 Y  \n",
            "\n",
            "測試集：\n",
            "  Month DayofMonth DayOfWeek  DepTime UniqueCarrier Origin Dest  Distance\n",
            "0   c-7       c-25       c-3      615            YV    MRY  PHX       598\n",
            "1   c-4       c-17       c-2      739            WN    LAS  HOU      1235\n",
            "2  c-12        c-2       c-7      651            MQ    GSP  ORD       577\n",
            "3   c-3       c-25       c-7     1614            WN    BWI  MHT       377\n",
            "4   c-6        c-6       c-3     1505            UA    ORD  STL       258\n"
          ]
        }
      ],
      "source": [
        "# 掛載 Google Drive\n",
        "from google.colab import drive\n",
        "drive.mount('/content/drive')\n",
        "\n",
        "# 導入所需庫\n",
        "import pandas as pd\n",
        "\n",
        "# 指定 Google Drive 中資料夾的路徑\n",
        "data_path = '/content/drive/MyDrive/Flightdelays/'  # 修改為你的資料夾路徑\n",
        "\n",
        "# 讀取數據\n",
        "train_data = pd.read_csv(data_path + 'flight_delays_train.csv')\n",
        "test_data = pd.read_csv(data_path + 'flight_delays_test.csv')\n",
        "\n",
        "# 確認數據讀取成功\n",
        "print(\"訓練集：\")\n",
        "print(train_data.head())\n",
        "\n",
        "print(\"\\n測試集：\")\n",
        "print(test_data.head())"
      ]
    },
    {
      "cell_type": "code",
      "source": [
        "# 掛載 Google Drive 並載入數據\n",
        "from google.colab import drive\n",
        "import pandas as pd\n",
        "from sklearn.model_selection import train_test_split\n",
        "from sklearn.preprocessing import LabelEncoder\n",
        "from sklearn.metrics import roc_auc_score\n",
        "import xgboost as xgb\n",
        "import numpy as np\n",
        "\n",
        "# 掛載 Google Drive\n",
        "drive.mount('/content/drive')\n",
        "data_path = '/content/drive/MyDrive/Flightdelays/'\n",
        "\n",
        "# 讀取數據\n",
        "train_data = pd.read_csv(data_path + 'flight_delays_train.csv')\n",
        "test_data = pd.read_csv(data_path + 'flight_delays_test.csv')\n",
        "\n",
        "# 預處理數據\n",
        "le = LabelEncoder()\n",
        "train_data['dep_delayed_15min'] = le.fit_transform(train_data['dep_delayed_15min'])\n",
        "categorical_cols = ['Month', 'DayofMonth', 'DayOfWeek', 'UniqueCarrier', 'Origin', 'Dest']\n",
        "\n",
        "# Handle unseen labels using a single LabelEncoder for both train and test data\n",
        "for col in categorical_cols:\n",
        "    # Fit on the combined unique values from both train and test data\n",
        "    all_values = pd.concat([train_data[col], test_data[col]]).unique()\n",
        "    le.fit(all_values)\n",
        "    train_data[col] = le.transform(train_data[col])\n",
        "    test_data[col] = le.transform(test_data[col])\n",
        "\n",
        "X = train_data.drop(columns=['dep_delayed_15min'])\n",
        "y = train_data['dep_delayed_15min']\n",
        "X_train, X_test, y_train, y_test = train_test_split(X, y, test_size=0.2, random_state=42)\n",
        "\n",
        "# 建立並訓練 XGBoost 模型\n",
        "xgb_model = xgb.XGBClassifier(\n",
        "    objective='binary:logistic',\n",
        "    eval_metric='logloss',\n",
        "    use_label_encoder=False,\n",
        "    n_estimators=100,\n",
        "    learning_rate=0.1,\n",
        "    max_depth=6,\n",
        "    random_state=42\n",
        ")\n",
        "# 訓練模型！ This is the crucial line you were missing.\n",
        "xgb_model.fit(X_train, y_train)\n",
        "\n",
        "# 評估模型\n",
        "y_train_probs = xgb_model.predict_proba(X_test)[:, 1]\n",
        "roc_auc = roc_auc_score(y_test, y_train_probs)\n",
        "print(f\"訓練集 ROC AUC Score: {roc_auc}\")\n",
        "\n",
        "# 預測測試集的延誤概率\n",
        "y_probs = xgb_model.predict_proba(test_data)[:, 1]\n",
        "\n",
        "# 建立提交文件\n",
        "submission = pd.DataFrame({\n",
        "    'id': np.arange(len(y_probs)),  # 創建 ID 列\n",
        "    'dep_delayed_15min': y_probs   # 延誤的預測概率\n",
        "})\n",
        "\n",
        "# 保存提交文件到 Google Drive 的 Flightdelays 資料夾\n",
        "submission_path = '/content/drive/MyDrive/Flightdelays/sample_submission_xgb.csv'\n",
        "submission.to_csv(submission_path, index=False)\n",
        "\n",
        "# 顯示提交文件內容\n",
        "print(\"Sample Submission:\")\n",
        "print(submission.head())\n",
        "\n",
        "print(f\"提交文件已儲存在: {submission_path}\")"
      ],
      "metadata": {
        "colab": {
          "base_uri": "https://localhost:8080/"
        },
        "id": "hydiyl73j1Qq",
        "outputId": "a6730e15-15e2-48ea-9ef1-6c0969d0bd59"
      },
      "execution_count": 11,
      "outputs": [
        {
          "output_type": "stream",
          "name": "stdout",
          "text": [
            "Drive already mounted at /content/drive; to attempt to forcibly remount, call drive.mount(\"/content/drive\", force_remount=True).\n"
          ]
        },
        {
          "output_type": "stream",
          "name": "stderr",
          "text": [
            "/usr/local/lib/python3.10/dist-packages/xgboost/core.py:158: UserWarning: [14:41:07] WARNING: /workspace/src/learner.cc:740: \n",
            "Parameters: { \"use_label_encoder\" } are not used.\n",
            "\n",
            "  warnings.warn(smsg, UserWarning)\n"
          ]
        },
        {
          "output_type": "stream",
          "name": "stdout",
          "text": [
            "訓練集 ROC AUC Score: 0.7398914391170838\n",
            "Sample Submission:\n",
            "   id  dep_delayed_15min\n",
            "0   0           0.019304\n",
            "1   1           0.038770\n",
            "2   2           0.036690\n",
            "3   3           0.210994\n",
            "4   4           0.152942\n",
            "提交文件已儲存在: /content/drive/MyDrive/Flightdelays/sample_submission_xgb.csv\n"
          ]
        }
      ]
    },
    {
      "cell_type": "code",
      "source": [
        "# 掛載 Google Drive 並載入數據\n",
        "from google.colab import drive\n",
        "import pandas as pd\n",
        "from sklearn.model_selection import train_test_split\n",
        "from sklearn.preprocessing import LabelEncoder\n",
        "from sklearn.metrics import roc_auc_score\n",
        "import xgboost as xgb\n",
        "import numpy as np\n",
        "\n",
        "# 掛載 Google Drive\n",
        "drive.mount('/content/drive')\n",
        "data_path = '/content/drive/MyDrive/Flightdelays/'\n",
        "\n",
        "# 讀取數據\n",
        "train_data = pd.read_csv(data_path + 'flight_delays_train.csv')\n",
        "test_data = pd.read_csv(data_path + 'flight_delays_test.csv')\n",
        "\n",
        "# 預處理數據\n",
        "le = LabelEncoder()\n",
        "train_data['dep_delayed_15min'] = le.fit_transform(train_data['dep_delayed_15min'])\n",
        "categorical_cols = ['Month', 'DayofMonth', 'DayOfWeek', 'UniqueCarrier', 'Origin', 'Dest']\n",
        "\n",
        "# Handle unseen labels using a single LabelEncoder for both train and test data\n",
        "for col in categorical_cols:\n",
        "    # Fit on the combined unique values from both train and test data\n",
        "    all_values = pd.concat([train_data[col], test_data[col]]).unique()\n",
        "    le.fit(all_values)\n",
        "    train_data[col] = le.transform(train_data[col])\n",
        "    test_data[col] = le.transform(test_data[col])\n",
        "\n",
        "X = train_data.drop(columns=['dep_delayed_15min'])\n",
        "y = train_data['dep_delayed_15min']\n",
        "X_train, X_test, y_train, y_test = train_test_split(X, y, test_size=0.2, random_state=42)\n",
        "\n",
        "# 建立並訓練 XGBoost 模型\n",
        "xgb_model = xgb.XGBClassifier(\n",
        "    objective='binary:logistic',\n",
        "    eval_metric='logloss',\n",
        "    use_label_encoder=False,\n",
        "    n_estimators=500,  # 增加弱學習器數量\n",
        "    learning_rate=0.05,  # 減小學習率\n",
        "    max_depth=8,  # 增加樹深度\n",
        "    subsample=0.8,  # 使用80%的數據子集\n",
        "    colsample_bytree=0.8,  # 使用80%的特徵子集\n",
        "    random_state=42\n",
        ")\n",
        "# 訓練模型！ This is the crucial line you were missing.\n",
        "xgb_model.fit(X_train, y_train)\n",
        "\n",
        "# 評估模型\n",
        "y_train_probs = xgb_model.predict_proba(X_test)[:, 1]\n",
        "roc_auc = roc_auc_score(y_test, y_train_probs)\n",
        "print(f\"訓練集 ROC AUC Score: {roc_auc}\")\n",
        "\n",
        "# 預測測試集的延誤概率\n",
        "y_probs = xgb_model.predict_proba(test_data)[:, 1]\n",
        "\n",
        "# 建立提交文件\n",
        "submission = pd.DataFrame({\n",
        "    'id': np.arange(len(y_probs)),  # 創建 ID 列\n",
        "    'dep_delayed_15min': y_probs   # 延誤的預測概率\n",
        "})\n",
        "\n",
        "# 保存提交文件到 Google Drive 的 Flightdelays 資料夾\n",
        "submission_path = '/content/drive/MyDrive/Flightdelays/sample_submission_xgb.csv'\n",
        "submission.to_csv(submission_path, index=False)\n",
        "\n",
        "# 顯示提交文件內容\n",
        "print(\"Sample Submission:\")\n",
        "print(submission.head())\n",
        "\n",
        "print(f\"提交文件已儲存在: {submission_path}\")"
      ],
      "metadata": {
        "colab": {
          "base_uri": "https://localhost:8080/"
        },
        "id": "MNGug909k3vn",
        "outputId": "c5f327bb-2a46-4c46-e57a-09ca8ebe2b7c"
      },
      "execution_count": 12,
      "outputs": [
        {
          "output_type": "stream",
          "name": "stdout",
          "text": [
            "Drive already mounted at /content/drive; to attempt to forcibly remount, call drive.mount(\"/content/drive\", force_remount=True).\n"
          ]
        },
        {
          "output_type": "stream",
          "name": "stderr",
          "text": [
            "/usr/local/lib/python3.10/dist-packages/xgboost/core.py:158: UserWarning: [14:45:57] WARNING: /workspace/src/learner.cc:740: \n",
            "Parameters: { \"use_label_encoder\" } are not used.\n",
            "\n",
            "  warnings.warn(smsg, UserWarning)\n"
          ]
        },
        {
          "output_type": "stream",
          "name": "stdout",
          "text": [
            "訓練集 ROC AUC Score: 0.7511503145314558\n",
            "Sample Submission:\n",
            "   id  dep_delayed_15min\n",
            "0   0           0.026111\n",
            "1   1           0.038524\n",
            "2   2           0.053435\n",
            "3   3           0.129550\n",
            "4   4           0.145718\n",
            "提交文件已儲存在: /content/drive/MyDrive/Flightdelays/sample_submission_xgb.csv\n"
          ]
        }
      ]
    },
    {
      "cell_type": "markdown",
      "source": [
        "#決策樹"
      ],
      "metadata": {
        "id": "PRiQYyzzmudH"
      }
    },
    {
      "cell_type": "code",
      "source": [
        "# 掛載 Google Drive 並載入數據\n",
        "from google.colab import drive\n",
        "import pandas as pd\n",
        "from sklearn.model_selection import train_test_split\n",
        "from sklearn.preprocessing import LabelEncoder\n",
        "from sklearn.metrics import roc_auc_score\n",
        "from sklearn.tree import DecisionTreeClassifier\n",
        "import numpy as np\n",
        "\n",
        "# 掛載 Google Drive\n",
        "drive.mount('/content/drive')\n",
        "data_path = '/content/drive/MyDrive/Flightdelays/'\n",
        "\n",
        "# 讀取數據\n",
        "train_data = pd.read_csv(data_path + 'flight_delays_train.csv')\n",
        "test_data = pd.read_csv(data_path + 'flight_delays_test.csv')\n",
        "\n",
        "# 預處理數據\n",
        "le = LabelEncoder()\n",
        "train_data['dep_delayed_15min'] = le.fit_transform(train_data['dep_delayed_15min'])\n",
        "categorical_cols = ['Month', 'DayofMonth', 'DayOfWeek', 'UniqueCarrier', 'Origin', 'Dest']\n",
        "\n",
        "# Handle unseen labels using a single LabelEncoder for both train and test data\n",
        "for col in categorical_cols:\n",
        "    # Fit on the combined unique values from both train and test data\n",
        "    all_values = pd.concat([train_data[col], test_data[col]]).unique()\n",
        "    le.fit(all_values)\n",
        "    train_data[col] = le.transform(train_data[col])\n",
        "    test_data[col] = le.transform(test_data[col])\n",
        "\n",
        "X = train_data.drop(columns=['dep_delayed_15min'])\n",
        "y = train_data['dep_delayed_15min']\n",
        "X_train, X_test, y_train, y_test = train_test_split(X, y, test_size=0.2, random_state=42)\n",
        "\n",
        "# 建立並訓練決策樹模型\n",
        "dt_model = DecisionTreeClassifier(\n",
        "    criterion='gini',  # 或 'entropy' 可選\n",
        "    max_depth=10,  # 控制樹的深度\n",
        "    min_samples_split=10,  # 分割內部節點所需的最小樣本數\n",
        "    random_state=42\n",
        ")\n",
        "\n",
        "dt_model.fit(X_train, y_train)\n",
        "\n",
        "# 評估模型\n",
        "y_train_probs = dt_model.predict_proba(X_test)[:, 1]\n",
        "roc_auc = roc_auc_score(y_test, y_train_probs)\n",
        "print(f\"訓練集 ROC AUC Score: {roc_auc}\")\n",
        "\n",
        "# 預測測試集的延誤概率\n",
        "y_probs = dt_model.predict_proba(test_data)[:, 1]\n",
        "\n",
        "# 建立提交文件\n",
        "submission = pd.DataFrame({\n",
        "    'id': np.arange(len(y_probs)),  # 創建 ID 列\n",
        "    'dep_delayed_15min': y_probs   # 延誤的預測概率\n",
        "})\n",
        "\n",
        "# 保存提交文件到 Google Drive 的 Flightdelays 資料夾\n",
        "submission_path = '/content/drive/MyDrive/Flightdelays/sample_submission_dt_tree.csv'\n",
        "submission.to_csv(submission_path, index=False)\n",
        "\n",
        "# 顯示提交文件內容\n",
        "print(\"Sample Submission:\")\n",
        "print(submission.head())\n",
        "\n",
        "print(f\"提交文件已儲存在: {submission_path}\")\n"
      ],
      "metadata": {
        "colab": {
          "base_uri": "https://localhost:8080/"
        },
        "id": "BDkg5tr_kFAK",
        "outputId": "8e82c027-6334-4c03-abc3-997960c09739"
      },
      "execution_count": 13,
      "outputs": [
        {
          "output_type": "stream",
          "name": "stdout",
          "text": [
            "Drive already mounted at /content/drive; to attempt to forcibly remount, call drive.mount(\"/content/drive\", force_remount=True).\n",
            "訓練集 ROC AUC Score: 0.6943567917719723\n",
            "Sample Submission:\n",
            "   id  dep_delayed_15min\n",
            "0   0           0.032258\n",
            "1   1           0.046948\n",
            "2   2           0.031050\n",
            "3   3           0.150000\n",
            "4   4           0.185590\n",
            "提交文件已儲存在: /content/drive/MyDrive/Flightdelays/sample_submission_dt_tree.csv\n"
          ]
        }
      ]
    }
  ]
}